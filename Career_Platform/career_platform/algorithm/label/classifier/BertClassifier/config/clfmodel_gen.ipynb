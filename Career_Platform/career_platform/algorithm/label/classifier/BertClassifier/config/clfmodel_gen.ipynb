{
 "cells": [
  {
   "cell_type": "markdown",
   "metadata": {},
   "source": [
    "## data generate"
   ]
  },
  {
   "cell_type": "code",
   "execution_count": 5,
   "metadata": {},
   "outputs": [],
   "source": [
    "import numpy as np\n",
    "from sklearn.datasets import load_digits\n",
    "from sklearn.preprocessing import label_binarize\n",
    "from sklearn.multiclass import OneVsRestClassifier\n",
    "from sklearn.linear_model import SGDClassifier\n",
    "from sklearn.model_selection import train_test_split\n",
    "from sklearn import svm\n",
    "from gensim.models import Word2Vec,KeyedVectors\n",
    "from sklearn.metrics import accuracy_score\n",
    "import pickle"
   ]
  },
  {
   "cell_type": "code",
   "execution_count": 2,
   "metadata": {},
   "outputs": [],
   "source": [
    "# 打开文件\n",
    "text_path = '../data/Corpus.txt'\n",
    "name_path = '../data/powerset.txt'\n",
    "with open(text_path,'r') as f:\n",
    "    texts = f.readlines()\n",
    "f.close()\n",
    "with open(name_path,'r') as g:\n",
    "    names = g.readlines()\n",
    "g.close()"
   ]
  },
  {
   "cell_type": "code",
   "execution_count": 7,
   "metadata": {},
   "outputs": [
    {
     "name": "stdout",
     "output_type": "stream",
     "text": [
      "34\n",
      "['深圳1', '市委直属', '教育', '市人大直属', '罗湖', '市政协直属', '军检法机构1', '一般院校', '宝安', '理工方向1', '经济金融', '公安', '街道基层', '卫生环保', '基层工作', '双一流大学', '龙华', '军检法机构', '龙岗', '福田', '交通运输', '盐田', '光明', '港澳外事', '大鹏新区', '深圳市外1', '科技技术', '党务工作', '深圳', '市政府直属', '国企事业单位', '坪山', '法务纪检', '南山']\n",
      "{'深圳1': 0, '市委直属': 1, '教育': 2, '市人大直属': 3, '罗湖': 4, '市政协直属': 5, '军检法机构1': 6, '一般院校': 7, '宝安': 8, '理工方向1': 9, '经济金融': 10, '公安': 11, '街道基层': 12, '卫生环保': 13, '基层工作': 14, '双一流大学': 15, '龙华': 16, '军检法机构': 17, '龙岗': 18, '福田': 19, '交通运输': 20, '盐田': 21, '光明': 22, '港澳外事': 23, '大鹏新区': 24, '深圳市外1': 25, '科技技术': 26, '党务工作': 27, '深圳': 28, '市政府直属': 29, '国企事业单位': 30, '坪山': 31, '法务纪检': 32, '南山': 33}\n"
     ]
    }
   ],
   "source": [
    "# 统计标签组\n",
    "'''label_set = []\n",
    "for name in names:\n",
    "    l = eval(name.split('\\t',2)[-1])\n",
    "    label_set.extend(l)\n",
    "label_set = list(set(label_set))\n",
    "print(len(label_set))\n",
    "label2id = {}\n",
    "for i,label in enumerate(label_set):\n",
    "    label2id[label] = i\n",
    "print(label_set)\n",
    "print(label2id)'''\n",
    "label2id = {}\n",
    "with open('config/labels.txt','r') as f:\n",
    "    lines = f.readlines()\n",
    "for line in lines:\n",
    "    line = line.strip().split('\\t')\n",
    "    label2id[line[0]] = eval(line[1])\n",
    "label_set = []\n",
    "for key in label2id:\n",
    "    label_set.append(key)\n",
    "print(len(label_set))\n",
    "print(label_set)\n",
    "print(label2id)"
   ]
  },
  {
   "cell_type": "code",
   "execution_count": 8,
   "metadata": {},
   "outputs": [
    {
     "name": "stdout",
     "output_type": "stream",
     "text": [
      "*********\n",
      "*********\n",
      "(11481, 34) [[0. 0. 0. ... 0. 0. 0.]\n",
      " [0. 0. 0. ... 0. 0. 0.]\n",
      " [0. 0. 0. ... 0. 0. 0.]\n",
      " ...\n",
      " [0. 0. 0. ... 0. 0. 0.]\n",
      " [0. 0. 0. ... 0. 0. 0.]\n",
      " [0. 0. 0. ... 0. 0. 0.]]\n",
      "*********\n",
      "(5741, 34) [[0. 0. 0. ... 0. 0. 0.]\n",
      " [0. 0. 0. ... 0. 0. 0.]\n",
      " [0. 0. 0. ... 0. 0. 0.]\n",
      " ...\n",
      " [0. 0. 0. ... 0. 0. 0.]\n",
      " [0. 0. 0. ... 0. 0. 0.]\n",
      " [0. 0. 0. ... 0. 0. 0.]]\n"
     ]
    }
   ],
   "source": [
    "x_train = []\n",
    "x_test = []\n",
    "y_train = []\n",
    "y_test = []\n",
    "for i in range(len(texts)):\n",
    "    _,flag,labels = names[i].split('\\t',2)\n",
    "    labels = eval(labels)\n",
    "    labels = [label2id[x] for x in labels]\n",
    "    y = np.zeros(len(label_set))\n",
    "    for ind in labels:\n",
    "        y[ind] = 1\n",
    "    if flag == 'train':\n",
    "        x_train.append(texts[i].strip())\n",
    "        y_train.append(y)\n",
    "    elif flag == 'test':\n",
    "        x_test.append(texts[i].strip())\n",
    "        y_test.append(y)\n",
    "y_train = np.array(y_train)\n",
    "y_test = np.array(y_test)\n",
    "#print(len(x_train),x_train)\n",
    "print('*********')\n",
    "#print(len(x_test),x_test)\n",
    "print('*********')\n",
    "print(y_train.shape,y_train)\n",
    "print('*********')\n",
    "print(y_test.shape,y_test)"
   ]
  },
  {
   "cell_type": "code",
   "execution_count": 147,
   "metadata": {},
   "outputs": [
    {
     "data": {
      "text/plain": [
       "'x = x_train\\nprint(len(x))\\nprint(x[0:2])\\n'"
      ]
     },
     "execution_count": 147,
     "metadata": {},
     "output_type": "execute_result"
    }
   ],
   "source": [
    "'''x = x_train\n",
    "print(len(x))\n",
    "print(x[0:2])\n",
    "'''"
   ]
  },
  {
   "cell_type": "markdown",
   "metadata": {},
   "source": [
    "## W2V"
   ]
  },
  {
   "cell_type": "code",
   "execution_count": 148,
   "metadata": {},
   "outputs": [],
   "source": [
    "Model_path = 'model/w2vModel3.txt'\n",
    "Mymodel = KeyedVectors.load_word2vec_format(Model_path, binary=False)\n",
    "#print(Mymodel['鄂南'])\n",
    "def doc_emb(s):\n",
    "    s = s.split()\n",
    "    result = 0\n",
    "    for item in s:\n",
    "        result += Mymodel[item]\n",
    "    return result/len(s)"
   ]
  },
  {
   "cell_type": "code",
   "execution_count": 149,
   "metadata": {},
   "outputs": [
    {
     "name": "stdout",
     "output_type": "stream",
     "text": [
      "(11481, 5) [[-1.9764199   0.6711333   2.6666346  -0.32828453  0.666273  ]]\n",
      "*********\n",
      "(5741, 5) [[-1.9183024   0.62873656  2.7205193  -0.38334066  0.7298054 ]]\n"
     ]
    }
   ],
   "source": [
    "for i,s in enumerate(x_train):\n",
    "    x_train[i] = doc_emb(s)\n",
    "x_train = np.array(x_train)\n",
    "for i,s in enumerate(x_test):\n",
    "    x_test[i] = doc_emb(s)\n",
    "x_test = np.array(x_test)\n",
    "print(x_train.shape,x_train[0:1])\n",
    "print('*********')\n",
    "print(x_test.shape,x_test[0:1])"
   ]
  },
  {
   "cell_type": "code",
   "execution_count": 150,
   "metadata": {},
   "outputs": [],
   "source": [
    "model = OneVsRestClassifier(svm.SVC(kernel='linear'))\n",
    "clf = model.fit(x_train, y_train)"
   ]
  },
  {
   "cell_type": "code",
   "execution_count": 151,
   "metadata": {},
   "outputs": [],
   "source": [
    "def evaluate(x,y):\n",
    "    c = (x + y)[0]\n",
    "    m,n = 0,0\n",
    "    #print(c)\n",
    "    for num in c:\n",
    "        #print(num)\n",
    "        if num > 0.0:\n",
    "            m += 1\n",
    "        if num == 2.0:\n",
    "            n += 1\n",
    "    return n/m"
   ]
  },
  {
   "cell_type": "code",
   "execution_count": 152,
   "metadata": {},
   "outputs": [
    {
     "name": "stdout",
     "output_type": "stream",
     "text": [
      "0.7943679962840371\n"
     ]
    }
   ],
   "source": [
    "score = 0\n",
    "for i in range(x_test.shape[0]):\n",
    "    y_predict = clf.predic           t(np.array([x_test[i]]))\n",
    "    score += evaluate(y_predict,y_test[i])\n",
    "score = score/x_test.shape[0]\n",
    "print(score)"
   ]
  },
  {
   "cell_type": "code",
   "execution_count": 142,
   "metadata": {},
   "outputs": [
    {
     "data": {
      "text/plain": [
       "array([0., 0., 0., 0., 0., 0., 0., 0., 0., 0., 0., 0., 0., 0., 0., 0., 0.,\n",
       "       0., 0., 0., 0., 0., 1., 0., 0., 1., 0., 0., 0., 0., 0., 0., 0., 0.])"
      ]
     },
     "execution_count": 142,
     "metadata": {},
     "output_type": "execute_result"
    }
   ],
   "source": [
    "y_test[0]"
   ]
  },
  {
   "cell_type": "code",
   "execution_count": null,
   "metadata": {},
   "outputs": [],
   "source": []
  },
  {
   "cell_type": "markdown",
   "metadata": {},
   "source": [
    "## KGE"
   ]
  },
  {
   "cell_type": "code",
   "execution_count": 9,
   "metadata": {},
   "outputs": [],
   "source": [
    "Model_path = 'model/kge1.txt'\n",
    "f = open(Model_path,'rb')\n",
    "Mymodel = pickle.load(f)\n",
    "f.close()\n",
    "#print(Mymodel['鄂南'])\n",
    "def doc_emb(s):\n",
    "    s = s.split()\n",
    "    result = 0\n",
    "    for item in s:\n",
    "        result += Mymodel[item].detach().numpy()\n",
    "    return result/len(s)"
   ]
  },
  {
   "cell_type": "code",
   "execution_count": 10,
   "metadata": {
    "collapsed": true
   },
   "outputs": [
    {
     "name": "stdout",
     "output_type": "stream",
     "text": [
      "(11481, 300) [[-0.0862608  -0.05608232 -0.13693452  0.1446248  -0.07380942  0.08100955\n",
      "  -0.0710175   0.19466478  0.02078468  0.02060594 -0.13324702 -0.15828931\n",
      "   0.06589845 -0.13175388 -0.15458873 -0.17275885 -0.19655243  0.03675377\n",
      "  -0.06032414 -0.12580003  0.20336418 -0.31082505 -0.09533659  0.19135836\n",
      "   0.05053294 -0.34484673 -0.04444493 -0.03692457  0.18333444 -0.16159938\n",
      "  -0.2788506  -0.01312388  0.10778818  0.01640877 -0.05742651 -0.07790904\n",
      "   0.08265409 -0.10446168  0.2507329   0.01917612 -0.08266401  0.07949202\n",
      "   0.19795117  0.0072046  -0.22024718  0.02946759  0.00650709  0.13854086\n",
      "   0.03132294  0.23981547  0.00574612  0.07103635 -0.00628256  0.03451007\n",
      "  -0.06209029 -0.07955387 -0.19795251  0.01136472 -0.11751206  0.20898965\n",
      "   0.02256358 -0.09646541 -0.29961485  0.32781976 -0.00779665 -0.02768272\n",
      "   0.02342199 -0.03432281 -0.06653438 -0.03905541 -0.26659706  0.06874431\n",
      "  -0.15845735  0.04579316 -0.02242407 -0.07156527 -0.26021427  0.19883889\n",
      "  -0.24606869 -0.1150887   0.14515156  0.1313515   0.13844864 -0.06735431\n",
      "   0.05763096  0.04496487  0.22125697  0.12306754  0.14623919 -0.00764796\n",
      "   0.11122537  0.08018145 -0.11733319 -0.040334    0.27300882  0.22585009\n",
      "  -0.09255947  0.17380875  0.01116263 -0.15189064 -0.03788093 -0.06893737\n",
      "   0.00798982 -0.22361037 -0.11058739  0.00226271  0.0013473   0.04507007\n",
      "  -0.09160629 -0.07987083  0.16606969 -0.14528905 -0.15251198  0.02633769\n",
      "  -0.03043647  0.02879931  0.15283807  0.03420276 -0.09331582 -0.0732559\n",
      "  -0.01242919 -0.06857668  0.07481366  0.00739643 -0.08777685  0.00396374\n",
      "  -0.13831621  0.03830238  0.19984818  0.13730875  0.03416898 -0.16554916\n",
      "   0.03432001 -0.05443614 -0.14643094  0.03542344 -0.14582641  0.07914037\n",
      "   0.0257052  -0.1624727   0.06191325 -0.03510128 -0.2539064  -0.1815555\n",
      "  -0.06828257 -0.0384925   0.2382708   0.0619816   0.23951274  0.17592365\n",
      "  -0.12943132  0.01608155 -0.05371911  0.141782   -0.11711006 -0.12721767\n",
      "  -0.01333926 -0.06476894 -0.04457464 -0.14819184 -0.00270704 -0.01536099\n",
      "   0.09209007 -0.00392449 -0.0218867   0.2894885   0.12345277  0.13102035\n",
      "  -0.08116938  0.10164878 -0.07959959 -0.291044   -0.20442139  0.04112852\n",
      "   0.26210946  0.07285402 -0.05046439  0.27826312  0.13092452  0.13058397\n",
      "   0.26825273 -0.27627388  0.08806603 -0.21354729 -0.18075722  0.11264579\n",
      "  -0.13983224  0.11005977  0.10461963  0.08642969  0.1396909   0.22734627\n",
      "   0.03311515 -0.17357254  0.1577891   0.05350715  0.153909    0.05478123\n",
      "  -0.1559989   0.05812083  0.15834858  0.03290553 -0.20484835  0.04010173\n",
      "  -0.12993038  0.28760365 -0.2044561  -0.02190768  0.19205603  0.06016404\n",
      "   0.24364942 -0.0455802   0.31178305 -0.2188428   0.01768293 -0.3907221\n",
      "  -0.09646697 -0.00588622 -0.36119753 -0.07088898 -0.0024761  -0.16489604\n",
      "  -0.1127218  -0.22985256 -0.03495954 -0.142059   -0.08715773 -0.03922566\n",
      "  -0.27947494  0.04168742 -0.12929377  0.12447754  0.14584659 -0.09192131\n",
      "   0.04664764 -0.21777987 -0.32989672  0.00342268 -0.03962128  0.04372466\n",
      "  -0.00695017 -0.12054491 -0.070812   -0.02835133 -0.06968863  0.01326655\n",
      "   0.21234778  0.16426942  0.0854432   0.02533329  0.00674406  0.11594202\n",
      "   0.09744032  0.03968221  0.14182693  0.09982117  0.01352113  0.0174765\n",
      "   0.02227727  0.00506952  0.10950665  0.0889789  -0.12471673  0.1709593\n",
      "  -0.10711896  0.14258447 -0.01853767 -0.04601238  0.00660723  0.04338451\n",
      "  -0.2084609  -0.03758543 -0.20632303  0.06591768 -0.09658973  0.29745096\n",
      "   0.13617837 -0.1475771   0.00958784 -0.00270891 -0.1347475   0.26585025\n",
      "   0.11894053  0.22991076  0.02449323  0.0215247  -0.17987287  0.03855729\n",
      "   0.03247549 -0.32167962  0.0335616  -0.04370716  0.10782678  0.0797247\n",
      "   0.03744821 -0.1804367  -0.1015345   0.22495833  0.13111307  0.08669183]]\n",
      "*********\n",
      "(5741, 300) [[-8.68678167e-02 -5.72481900e-02 -1.38033479e-01  1.43574536e-01\n",
      "  -7.50724822e-02  7.97689036e-02 -6.89523518e-02  1.88318536e-01\n",
      "   1.89790279e-02  1.68550443e-02 -1.31377935e-01 -1.58890352e-01\n",
      "   6.62177727e-02 -1.31702051e-01 -1.54255033e-01 -1.71656311e-01\n",
      "  -1.95787132e-01  3.50844562e-02 -6.05350919e-02 -1.27525091e-01\n",
      "   2.03021199e-01 -3.07374060e-01 -9.55619290e-02  1.90341815e-01\n",
      "   5.27316667e-02 -3.43693018e-01 -4.45193574e-02 -3.55955139e-02\n",
      "   1.82801351e-01 -1.62639797e-01 -2.78024375e-01 -1.26324184e-02\n",
      "   1.08753085e-01  1.60757396e-02 -5.74616976e-02 -7.72694200e-02\n",
      "   8.12476724e-02 -1.06348470e-01  2.49160126e-01  1.74098108e-02\n",
      "  -8.52617472e-02  7.95726776e-02  1.98251948e-01  5.61417127e-03\n",
      "  -2.18134522e-01  2.88431309e-02  5.91729814e-03  1.41004696e-01\n",
      "   2.97077410e-02  2.39000142e-01  4.64941422e-03  7.06536770e-02\n",
      "  -7.86852650e-03  3.18884738e-02 -5.97802065e-02 -8.09609890e-02\n",
      "  -1.97983921e-01  1.51489191e-02 -1.15926459e-01  2.09449723e-01\n",
      "   2.32588314e-02 -9.65977460e-02 -2.96944022e-01  3.25653791e-01\n",
      "  -8.27630982e-03 -2.50709951e-02  2.33462676e-02 -3.23134214e-02\n",
      "  -6.63008094e-02 -4.07311954e-02 -2.65024751e-01  7.11492300e-02\n",
      "  -1.58739030e-01  4.66115847e-02 -2.27572247e-02 -7.19247311e-02\n",
      "  -2.60151684e-01  1.97042674e-01 -2.43987709e-01 -1.17945924e-01\n",
      "   1.46088719e-01  1.31555036e-01  1.39842138e-01 -6.46246001e-02\n",
      "   5.48254773e-02  4.37548012e-02  2.20034361e-01  1.21353447e-01\n",
      "   1.44471139e-01 -5.65100275e-03  1.10061541e-01  7.85297230e-02\n",
      "  -1.17028274e-01 -3.85978632e-02  2.71525681e-01  2.26592660e-01\n",
      "  -9.02436450e-02  1.73509121e-01  8.96121841e-03 -1.53433263e-01\n",
      "  -3.86979729e-02 -7.02757090e-02  9.15686600e-03 -2.22854406e-01\n",
      "  -1.12763628e-01  2.79876217e-03 -1.57831237e-04  4.33274694e-02\n",
      "  -9.25566778e-02 -7.71557614e-02  1.62782401e-01 -1.44698083e-01\n",
      "  -1.52330771e-01  2.44594589e-02 -2.89874487e-02  2.82433443e-02\n",
      "   1.51752174e-01  3.07142511e-02 -9.11250561e-02 -7.22472072e-02\n",
      "  -1.11806113e-02 -6.98663890e-02  7.29485825e-02  5.67466021e-03\n",
      "  -8.63757282e-02  2.35194527e-03 -1.38466775e-01  3.70466225e-02\n",
      "   1.97889864e-01  1.36975020e-01  3.32448334e-02 -1.64414495e-01\n",
      "   3.25908028e-02 -5.45486286e-02 -1.47541374e-01  3.36691998e-02\n",
      "  -1.45842731e-01  7.98651576e-02  2.34705620e-02 -1.60694093e-01\n",
      "   6.13915958e-02 -3.45913917e-02 -2.49638870e-01 -1.79740071e-01\n",
      "  -6.48022741e-02 -3.73080745e-02  2.37925768e-01  6.48841858e-02\n",
      "   2.39077449e-01  1.75660893e-01 -1.26634032e-01  1.79417580e-02\n",
      "  -5.48301414e-02  1.40763491e-01 -1.17293954e-01 -1.28397942e-01\n",
      "  -1.48256989e-02 -6.35379776e-02 -4.28122841e-02 -1.46778971e-01\n",
      "  -5.41676767e-03 -1.65922474e-02  9.06563401e-02 -4.25325893e-03\n",
      "  -2.32411027e-02  2.85104334e-01  1.21621929e-01  1.26136288e-01\n",
      "  -8.02639723e-02  1.01974785e-01 -7.94300288e-02 -2.92583585e-01\n",
      "  -2.04426080e-01  4.00649980e-02  2.61082947e-01  7.51893967e-02\n",
      "  -5.15997745e-02  2.78047085e-01  1.29771441e-01  1.28493592e-01\n",
      "   2.66413271e-01 -2.73751497e-01  8.56975764e-02 -2.10490823e-01\n",
      "  -1.81147754e-01  1.11528769e-01 -1.39975905e-01  1.11136869e-01\n",
      "   1.03415094e-01  8.70308802e-02  1.38585106e-01  2.23384663e-01\n",
      "   3.20181251e-02 -1.73626930e-01  1.59255952e-01  5.32006882e-02\n",
      "   1.54202893e-01  5.26435226e-02 -1.55443057e-01  6.08773902e-02\n",
      "   1.56188279e-01  3.39749157e-02 -2.01733679e-01  4.19894308e-02\n",
      "  -1.31538436e-01  2.87722588e-01 -2.04472274e-01 -2.04919018e-02\n",
      "   1.90043151e-01  6.02879152e-02  2.43470728e-01 -4.58899587e-02\n",
      "   3.10490251e-01 -2.18012989e-01  1.83109343e-02 -3.88744295e-01\n",
      "  -9.46211889e-02 -3.75702931e-03 -3.58392477e-01 -7.00843856e-02\n",
      "  -3.25180404e-03 -1.64107114e-01 -1.11040860e-01 -2.27309108e-01\n",
      "  -3.27320322e-02 -1.40516728e-01 -8.84007961e-02 -3.83355170e-02\n",
      "  -2.79095083e-01  4.37725000e-02 -1.30275100e-01  1.26356587e-01\n",
      "   1.46341309e-01 -8.97799730e-02  4.69242334e-02 -2.16869354e-01\n",
      "  -3.28240246e-01  4.94460016e-03 -3.87920253e-02  4.26677093e-02\n",
      "  -7.59671815e-03 -1.19637229e-01 -6.97703511e-02 -2.46961731e-02\n",
      "  -6.85607642e-02  1.56416856e-02  2.12102324e-01  1.62266225e-01\n",
      "   8.59830007e-02  2.78756432e-02  6.58165663e-03  1.16604649e-01\n",
      "   9.73314419e-02  3.90120186e-02  1.43128589e-01  1.00281060e-01\n",
      "   1.18992571e-02  1.81378834e-02  2.22707260e-02  4.61763795e-03\n",
      "   1.08094662e-01  8.77445936e-02 -1.25347689e-01  1.69322252e-01\n",
      "  -1.03877850e-01  1.42294914e-01 -1.91078894e-02 -4.75886986e-02\n",
      "   5.36560826e-03  4.53182161e-02 -2.08499223e-01 -3.81782204e-02\n",
      "  -2.04496801e-01  6.41515404e-02 -9.44704786e-02  2.96673536e-01\n",
      "   1.36283070e-01 -1.45847023e-01  9.50521789e-03 -3.50038125e-03\n",
      "  -1.35160953e-01  2.62882173e-01  1.16380870e-01  2.29030102e-01\n",
      "   2.35359743e-02  2.15453245e-02 -1.79531187e-01  3.90031338e-02\n",
      "   3.52299996e-02 -3.22444379e-01  3.45846638e-02 -4.46331389e-02\n",
      "   1.07887223e-01  7.77364075e-02  3.78178395e-02 -1.78866208e-01\n",
      "  -1.02378763e-01  2.23407611e-01  1.26538336e-01  8.79978463e-02]]\n"
     ]
    }
   ],
   "source": [
    "for i,s in enumerate(x_train):\n",
    "    x_train[i] = doc_emb(s)\n",
    "x_train = np.array(x_train)\n",
    "for i,s in enumerate(x_test):\n",
    "    x_test[i] = doc_emb(s)\n",
    "x_test = np.array(x_test)\n",
    "print(x_train.shape,x_train[0:1])\n",
    "print('*********')\n",
    "print(x_test.shape,x_test[0:1])"
   ]
  },
  {
   "cell_type": "code",
   "execution_count": null,
   "metadata": {},
   "outputs": [],
   "source": []
  },
  {
   "cell_type": "code",
   "execution_count": 11,
   "metadata": {},
   "outputs": [],
   "source": [
    "model = OneVsRestClassifier(svm.SVC(kernel='linear',probability=True))\n",
    "clf = model.fit(x_train, y_train)"
   ]
  },
  {
   "cell_type": "code",
   "execution_count": 12,
   "metadata": {},
   "outputs": [],
   "source": [
    "def evaluate(x,y):\n",
    "    c = (x + y)[0]\n",
    "    m,n = 0,0\n",
    "    #print(c)\n",
    "    for num in c:\n",
    "        #print(num)\n",
    "        if num > 0.0:\n",
    "            m += 1\n",
    "        if num == 2.0:\n",
    "            n += 1\n",
    "    return n/m"
   ]
  },
  {
   "cell_type": "code",
   "execution_count": 13,
   "metadata": {},
   "outputs": [
    {
     "name": "stdout",
     "output_type": "stream",
     "text": [
      "0.8046710793706081\n"
     ]
    }
   ],
   "source": [
    "score = 0\n",
    "for i in range(x_test.shape[0]):\n",
    "    y_predict = clf.predict(np.array([x_test[i]]))\n",
    "    score += evaluate(y_predict,y_test[i])\n",
    "score = score/x_test.shape[0]\n",
    "print(score)"
   ]
  },
  {
   "cell_type": "code",
   "execution_count": null,
   "metadata": {},
   "outputs": [],
   "source": []
  },
  {
   "cell_type": "code",
   "execution_count": null,
   "metadata": {},
   "outputs": [],
   "source": []
  },
  {
   "cell_type": "code",
   "execution_count": 16,
   "metadata": {},
   "outputs": [],
   "source": [
    "f = open('model/kg_svc_1.model','wb')\n",
    "pickle.dump(clf,f)\n",
    "f.close()"
   ]
  },
  {
   "cell_type": "code",
   "execution_count": 18,
   "metadata": {},
   "outputs": [],
   "source": [
    "f = open('model/kg_svc_1.model','rb')\n",
    "liu = pickle.load(f)\n",
    "f.close()"
   ]
  },
  {
   "cell_type": "code",
   "execution_count": null,
   "metadata": {},
   "outputs": [],
   "source": []
  },
  {
   "cell_type": "markdown",
   "metadata": {},
   "source": [
    "## demo"
   ]
  },
  {
   "cell_type": "code",
   "execution_count": 6,
   "metadata": {
    "collapsed": true
   },
   "outputs": [
    {
     "name": "stdout",
     "output_type": "stream",
     "text": [
      "(1797, 64) [[ 0.  0.  5. ...  0.  0.  0.]\n",
      " [ 0.  0.  0. ... 10.  0.  0.]\n",
      " [ 0.  0.  0. ... 16.  9.  0.]\n",
      " ...\n",
      " [ 0.  0.  1. ...  6.  0.  0.]\n",
      " [ 0.  0.  2. ... 12.  0.  0.]\n",
      " [ 0.  0. 10. ... 12.  1.  0.]]\n",
      "*********\n",
      "(1797, 10) [[1 0 0 ... 0 0 0]\n",
      " [0 1 0 ... 0 0 0]\n",
      " [0 0 1 ... 0 0 0]\n",
      " ...\n",
      " [0 0 0 ... 0 1 0]\n",
      " [0 0 0 ... 0 0 1]\n",
      " [0 0 0 ... 0 1 0]]\n",
      "*********\n",
      "(1347, 64) [[ 0.  0.  1. ...  0.  0.  0.]\n",
      " [ 0.  0.  0. ... 14.  0.  0.]\n",
      " [ 0.  2. 13. ...  0.  0.  0.]\n",
      " ...\n",
      " [ 0.  0.  0. ... 15.  4.  0.]\n",
      " [ 0.  0.  0. ...  0.  0.  0.]\n",
      " [ 0.  1.  7. ...  6.  0.  0.]]\n",
      "*********\n",
      "(450, 64) [[ 0.  0. 15. ...  0.  0.  0.]\n",
      " [ 0.  0.  5. ... 13. 12.  4.]\n",
      " [ 0.  0. 11. ... 13. 16.  7.]\n",
      " ...\n",
      " [ 0.  0.  0. ... 15.  0.  0.]\n",
      " [ 0.  0.  1. ...  8.  0.  0.]\n",
      " [ 0.  0.  0. ...  8.  0.  0.]]\n",
      "*********\n",
      "(1347, 10) [[0 0 0 ... 0 0 0]\n",
      " [0 0 0 ... 0 1 0]\n",
      " [0 0 0 ... 0 0 0]\n",
      " ...\n",
      " [0 0 0 ... 0 0 0]\n",
      " [0 0 0 ... 0 0 0]\n",
      " [0 0 0 ... 0 0 0]]\n",
      "*********\n",
      "(450, 10) [[0 0 0 ... 0 0 0]\n",
      " [0 0 1 ... 0 0 0]\n",
      " [0 0 1 ... 0 0 0]\n",
      " ...\n",
      " [0 1 0 ... 0 0 0]\n",
      " [0 0 0 ... 0 0 0]\n",
      " [0 1 0 ... 0 0 0]]\n"
     ]
    }
   ],
   "source": [
    "digits = load_digits()\n",
    "\n",
    "x, y = digits.data, digits.target\n",
    "y = label_binarize(y, classes=list(range(10)))\n",
    "print(x.shape,x)\n",
    "print('*********')\n",
    "print(y.shape,y)\n",
    "print('*********')\n",
    "x_train, x_test, y_train, y_test = train_test_split(x, y)\n",
    "print(x_train.shape,x_train)\n",
    "print('*********')\n",
    "print(x_test.shape,x_test)\n",
    "print('*********')\n",
    "print(y_train.shape,y_train)\n",
    "print('*********')\n",
    "print(y_test.shape,y_test)"
   ]
  },
  {
   "cell_type": "code",
   "execution_count": 34,
   "metadata": {},
   "outputs": [
    {
     "name": "stdout",
     "output_type": "stream",
     "text": [
      "<class 'sklearn.multiclass.OneVsRestClassifier'>\n",
      "<class 'sklearn.multiclass.OneVsRestClassifier'>\n",
      "True\n",
      "False\n"
     ]
    }
   ],
   "source": [
    "#model = OneVsRestClassifier(svm.SVC(kernel='linear'))\n",
    "model = OneVsRestClassifier(SGDClassifier(loss='log'))\n",
    "clf = model.fit(x_train, y_train)\n",
    "print(type(model))\n",
    "print(type(clf))\n",
    "print(model is clf)\n",
    "print(id(model) is id(clf))\n",
    "#print(clf.multilabel_)"
   ]
  },
  {
   "cell_type": "code",
   "execution_count": 35,
   "metadata": {},
   "outputs": [],
   "source": [
    "clf = model.partial_fit(x_test, y_test)"
   ]
  },
  {
   "cell_type": "code",
   "execution_count": 36,
   "metadata": {},
   "outputs": [
    {
     "name": "stdout",
     "output_type": "stream",
     "text": [
      "0.8559762435040832\n",
      "0.8311111111111111\n",
      "[5 2 2 7 3 6 8 5 1 5 0 1 9 3 8 6 4 8 9 2 2 0 7 1 1 1 5 2 0 4 8 2 1 7 9 6 5\n",
      " 6 8 0 9 6 1 4 7 1 3 4 4 4 3 1 8 5 1 5 8 1 2 9 0 3 9 1 7 5 9 1 8 2 8 5 4 4\n",
      " 2 0 0 9 6 3 1 0 5 4 0 0 6 6 8 9 1 6 4 5 2 3 6 5 5 1 4 7 4 1 8 2 5 6 8 0 5\n",
      " 9 1 4 3 9 3 1 3 2 2 2 9 6 1 2 8 0 2 3 2 5 9 4 6 4 5 0 5 0 0 6 5 2 1 3 0 2\n",
      " 0 5 8 1 0 3 0 5 8 2 8 2 5 9 6 3 0 8 0 9 6 3 6 9 4 3 1 8 1 7 5 3 6 1 1 0 5\n",
      " 7 2 4 0 0 4 5 7 7 6 3 2 7 0 7 1 4 0 7 7 2 0 3 2 2 8 5 6 2 7 8 0 8 9 0 9 2\n",
      " 8 1 3 6 3 7 5 8 3 7 4 1 2 0 4 6 4 2 7 6 2 5 4 7 6 7 3 7 9 3 7 4 9 4 3 7 5\n",
      " 5 4 9 9 0 7 4 6 4 8 4 8 2 3 9 9 7 7 4 0 9 3 2 7 9 8 7 5 1 5 3 6 2 5 8 7 7\n",
      " 8 1 2 2 0 1 4 7 3 4 2 9 4 6 5 2 4 6 4 8 4 2 0 5 3 0 0 0 7 1 4 5 8 2 0 9 9\n",
      " 1 0 7 2 2 9 0 7 7 8 7 7 2 8 8 6 0 1 1 5 4 2 6 3 0 3 3 7 1 9 1 8 4 8 6 3 7\n",
      " 5 9 3 8 5 4 1 1 5 1 6 5 0 7 3 4 6 2 9 2 4 5 7 2 6 0 3 8 9 4 6 1 6 9 1 5 5\n",
      " 1 6 0 2 1 6 1 7 7 1 3 5 7 8 6 3 5 2 2 2 3 1 2 5 6 2 0 0 7 3 2 6 8 1 6 2 0\n",
      " 4 1 8 1 6 1]\n",
      "[5 2 2 7 3 6 8 5 1 5 0 1 7 3 8 6 4 8 9 2 2 0 7 1 1 1 5 2 0 4 8 2 1 7 9 6 5\n",
      " 6 8 0 9 6 1 4 7 1 3 4 4 4 3 1 8 5 1 5 8 1 2 9 0 3 9 1 7 5 9 1 8 2 8 5 4 4\n",
      " 2 0 0 9 6 7 1 0 5 4 0 0 6 6 8 9 1 6 4 5 2 3 6 5 5 1 4 7 4 1 8 2 5 6 8 0 5\n",
      " 9 1 4 3 9 3 1 1 2 2 2 9 6 1 2 8 0 2 3 2 5 9 4 6 4 5 0 5 0 0 6 5 2 1 3 0 2\n",
      " 0 5 8 1 0 3 0 5 1 2 8 2 5 9 6 3 0 8 0 9 6 3 6 9 4 3 1 8 5 7 5 3 6 1 1 0 5\n",
      " 7 2 9 0 0 7 5 7 7 6 3 2 7 0 7 1 4 0 7 7 2 0 3 2 2 8 5 6 2 7 8 0 8 9 0 9 2\n",
      " 8 1 3 6 3 7 5 1 3 7 1 1 2 0 4 6 4 2 7 6 2 5 4 7 6 7 3 7 9 3 7 4 9 4 3 7 5\n",
      " 5 4 9 9 0 7 4 6 4 8 4 8 2 3 9 9 7 7 4 0 5 3 2 7 9 8 7 5 1 5 9 6 2 5 8 7 7\n",
      " 8 1 2 2 0 1 4 7 3 4 2 9 6 6 5 2 4 6 4 8 4 2 0 5 3 0 0 0 7 1 4 5 5 2 0 9 9\n",
      " 1 0 7 2 2 9 0 7 7 8 7 7 2 8 8 6 0 1 1 5 4 2 6 3 0 3 3 7 1 9 1 8 4 8 6 7 7\n",
      " 5 9 3 1 5 4 1 1 5 1 6 5 0 7 3 4 6 2 9 2 4 5 7 2 6 0 3 3 5 4 6 1 6 9 1 5 5\n",
      " 1 6 0 2 1 6 1 7 7 1 3 5 7 8 6 3 5 2 2 2 3 1 2 5 6 2 0 0 7 3 2 6 8 1 6 2 0\n",
      " 4 1 1 1 6 1]\n"
     ]
    }
   ],
   "source": [
    "print(clf.score(x_train, y_train))\n",
    "print(clf.score(x_test, y_test))\n",
    "print(np.argmax(y_test, axis=1))\n",
    "print(np.argmax(clf.decision_function(x_test), axis=1))"
   ]
  },
  {
   "cell_type": "code",
   "execution_count": 21,
   "metadata": {},
   "outputs": [
    {
     "data": {
      "text/plain": [
       "array([[0, 0, 0, 0, 0, 1, 0, 0, 0, 0],\n",
       "       [0, 0, 1, 0, 0, 0, 0, 0, 0, 0],\n",
       "       [0, 0, 1, 0, 0, 0, 0, 0, 0, 0],\n",
       "       [0, 0, 0, 0, 0, 0, 0, 1, 0, 0],\n",
       "       [0, 0, 0, 1, 0, 0, 0, 0, 0, 0],\n",
       "       [0, 0, 0, 0, 0, 0, 1, 0, 0, 0],\n",
       "       [0, 0, 0, 0, 0, 0, 0, 0, 1, 0],\n",
       "       [0, 0, 0, 0, 0, 1, 0, 0, 0, 0],\n",
       "       [0, 1, 0, 0, 0, 0, 0, 0, 0, 0],\n",
       "       [0, 0, 0, 0, 0, 1, 0, 0, 0, 0]])"
      ]
     },
     "execution_count": 21,
     "metadata": {},
     "output_type": "execute_result"
    }
   ],
   "source": [
    "clf.predict(x_test[0:10])"
   ]
  },
  {
   "cell_type": "code",
   "execution_count": null,
   "metadata": {},
   "outputs": [],
   "source": []
  },
  {
   "cell_type": "code",
   "execution_count": null,
   "metadata": {},
   "outputs": [],
   "source": []
  },
  {
   "cell_type": "code",
   "execution_count": null,
   "metadata": {},
   "outputs": [],
   "source": []
  },
  {
   "cell_type": "code",
   "execution_count": null,
   "metadata": {},
   "outputs": [],
   "source": []
  },
  {
   "cell_type": "code",
   "execution_count": null,
   "metadata": {},
   "outputs": [],
   "source": []
  },
  {
   "cell_type": "code",
   "execution_count": null,
   "metadata": {},
   "outputs": [],
   "source": []
  },
  {
   "cell_type": "code",
   "execution_count": null,
   "metadata": {},
   "outputs": [],
   "source": []
  }
 ],
 "metadata": {
  "kernelspec": {
   "display_name": "Python 3",
   "language": "python",
   "name": "python3"
  },
  "language_info": {
   "codemirror_mode": {
    "name": "ipython",
    "version": 3
   },
   "file_extension": ".py",
   "mimetype": "text/x-python",
   "name": "python",
   "nbconvert_exporter": "python",
   "pygments_lexer": "ipython3",
   "version": "3.8.3"
  }
 },
 "nbformat": 4,
 "nbformat_minor": 4
}
