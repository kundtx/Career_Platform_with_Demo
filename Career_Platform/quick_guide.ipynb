{
 "cells": [
  {
   "cell_type": "markdown",
   "metadata": {
    "pycharm": {
     "name": "#%% md\n"
    }
   },
   "source": [
    "# Quick Guide to *career_platform* Package"
   ]
  },
  {
   "cell_type": "code",
   "execution_count": 12,
   "metadata": {},
   "outputs": [
    {
     "data": {
      "text/plain": [
       "'6b2deb99-b531-11ed-9b49-f894c274d899'"
      ]
     },
     "execution_count": 12,
     "metadata": {},
     "output_type": "execute_result"
    }
   ],
   "source": [
    "import uuid\n",
    "uuid.uuid1().__str__()"
   ]
  },
  {
   "cell_type": "markdown",
   "metadata": {
    "pycharm": {
     "name": "#%% md\n"
    }
   },
   "source": [
    "## 0. 导入\n",
    "\n"
   ]
  },
  {
   "cell_type": "markdown",
   "metadata": {
    "pycharm": {
     "name": "#%% md\n"
    }
   },
   "source": [
    "career_platform包的两种导入方式, 使用时任选其一即可:  \n",
    "1. 将Career_Platform项目文件夹中的career_platform文件夹整体拷贝到你主程序的同级别文件夹下, 即可在主程序中`import career_platform as CP `导入使用. (不推荐)\n",
    "2. 将Career_Platform项目文件夹所在的文件夹 (即它的父文件夹) 加入path, 以`from Career_Platform import career_platform as CP `导入使用, 示例:  \n",
    "    ```python\n",
    "    import os, sys\n",
    "    sys.path.append(\"Career_Platform项目文件夹的父文件夹路径\")\n",
    "    from Career_Platform import career_platform as CP\n",
    "    ```"
   ]
  },
  {
   "cell_type": "code",
   "execution_count": 1,
   "metadata": {
    "pycharm": {
     "name": "#%%\n"
    }
   },
   "outputs": [
    {
     "name": "stdout",
     "output_type": "stream",
     "text": [
      "[WARNING] failed to import dmPython module. ignore this message if you don't need dmPython\n"
     ]
    }
   ],
   "source": [
    "# 这里用了第1种导入方式因为这个notebook刚好跟career_platform在同一文件夹下\n",
    "import career_platform as CP\n",
    "import datetime"
   ]
  },
  {
   "cell_type": "markdown",
   "metadata": {
    "pycharm": {
     "name": "#%% md\n"
    }
   },
   "source": [
    "## 1. 各模块简介"
   ]
  },
  {
   "cell_type": "markdown",
   "metadata": {
    "pycharm": {
     "name": "#%% md\n"
    }
   },
   "source": [
    "### 1.1 Common: 通用数据类"
   ]
  },
  {
   "cell_type": "markdown",
   "metadata": {
    "pycharm": {
     "name": "#%% md\n"
    }
   },
   "source": [
    "`common`模块中包括了所有的通用数据类, 这些类是数据的载体, career_platform提供的所有算法都应使用这些数据类作为输入和输出"
   ]
  },
  {
   "cell_type": "code",
   "execution_count": 2,
   "metadata": {
    "pycharm": {
     "name": "#%%\n"
    }
   },
   "outputs": [],
   "source": [
    "# Person类, 这里只初始化了部分Attribute, Person的全部Attribute见Person的注释\n",
    "person1 = CP.common.Person(uuid=\"99A67C12-C5F0-3218-AD6A-C78BD80917B0\", name=\"张老三\", minzu=\"汉族\", cur_adminrank=\"正处级\", time_birth=datetime.date(1980, 12, 1))\n",
    "\n",
    "# Experience类, 这里只初始化了部分Attribute, Experience的全部Attribute见Experience的注释\n",
    "exp1 = CP.common.Experience(uuid=\"balabala\", splitnum=0, person_uuid=\"99A67C12-C5F0-3218-AD6A-C78BD80917B0\", \n",
    "                            text_raw=\"深圳市南山区桃源街道办科员、主任科员\", time_start=datetime.date(1988, 12, 12), time_end=datetime.date(1992, 12, 1))\n",
    "# 其他通用数据类见文档"
   ]
  },
  {
   "cell_type": "markdown",
   "metadata": {
    "pycharm": {
     "name": "#%% md\n"
    }
   },
   "source": [
    "### 1.2 Persistent: 持久化工具"
   ]
  },
  {
   "cell_type": "markdown",
   "metadata": {},
   "source": [
    "`persistent.mapper`模块中包含了用于存取数据的许多Mapper。 一个Mapper只针对一种`common`中的数据类，以及一种特定的数据源。下面以`Experience`类的JSON文件Mapper类演示: "
   ]
  },
  {
   "cell_type": "code",
   "execution_count": 3,
   "metadata": {
    "pycharm": {
     "name": "#%%\n"
    }
   },
   "outputs": [],
   "source": [
    "jem = CP.persistent.mapper.JsonExperienceMapper()    # 获取一个JsonExperienceMapper实例，可以用它来读写JSON中存的Experience\n",
    "\n",
    "exps_in_json = jem.getAll(\"./demo/sample_data/sample_data_exp.json\")    # 用getAll函数读取sample_data_exp.json中的所有Experience"
   ]
  },
  {
   "cell_type": "markdown",
   "metadata": {},
   "source": [
    "除了JSON文件的Mapper，数据库的Mapper肯定是必不可少的，下面演示用于在CAREER数据库存取`Experience`的Mapper类: \n",
    "\n",
    "运行下面的代码块前请先确保你的数据库是可用的！并且初始化成career_platform/persistent/CAREER.sql描述的样子。可以调用`CP.persistent.init_CareerDB()`函数初始化CAREER数据库和库表。"
   ]
  },
  {
   "cell_type": "code",
   "execution_count": 4,
   "metadata": {
    "pycharm": {
     "name": "#%%\n"
    }
   },
   "outputs": [
    {
     "name": "stdout",
     "output_type": "stream",
     "text": [
      "execution success! CAREER_dev database initialized!\n"
     ]
    },
    {
     "data": {
      "text/plain": [
       "True"
      ]
     },
     "execution_count": 4,
     "metadata": {},
     "output_type": "execute_result"
    }
   ],
   "source": [
    "CP.persistent.init_CareerDB()   # 若想初始化数据库和库表, 可以运行这行代码.\n",
    "\n",
    "cem = CP.persistent.mapper.CareerDBExperienceMapper()   # 获取用于数据库存取Experience的Mapper实例\n",
    "\n",
    "# 我们可以先试试把刚刚从JSON文件中读出的所有Experience保存进数据库\n",
    "cem.save(replace_by=\"exp_uuid\", exp_list=exps_in_json)\n",
    "# 如果运行成功，你现在可以去CAREER数据库的exp表里看看保存好的Experience记录\n",
    "\n",
    "\n",
    "# 因为数据库比JSON文件牛逼很多, 所以数据库的Mapper支持更多的读取方式: \n",
    "\n",
    "# 按特定exp_uuid读取经历\n",
    "exp_list = cem.getByExpuuid(uuid=\"7A01D8ED-016D-3D04-830E-884C79A54DAF\")\n",
    "\n",
    "# 按特定人的person_uuid读取经历\n",
    "exp_list = cem.getByPersonuuid(person_uuid=\"D68FA2D4-ADC9-3B20-AC77-42585CD1D59F\")\n",
    "\n",
    "# 按经历在CAREER中的id读取经历 \n",
    "# 【!!!请注意!!!】CAREER数据库中Experience的id是(exp_uuid, splitnum)组合主键而不是exp_uuid. 因为Experience经过兼职拆分后, 一个会变成多个, 因此exp_uuid并不唯一\n",
    "exp = cem.getById(id=(\"7A01D8ED-016D-3D04-830E-884C79A54DAF\", 0))\n",
    "\n",
    "# getAll可以把数据库中全部的Experience读出来\n",
    "exp_list = cem.getAll()\n",
    "\n",
    "# 更多接口见文档或注释"
   ]
  },
  {
   "cell_type": "markdown",
   "metadata": {
    "pycharm": {
     "name": "#%% md\n"
    }
   },
   "source": [
    "### 1.3 Algorithm: 核心算法  \n",
    "\n",
    "`algorithm`模块目前包含四个子模块: `exp_parser`、`person_parser`、`label` 和 `network`，他们各自对外提供了一些函数, 且模块之间互不相关. "
   ]
  },
  {
   "cell_type": "code",
   "execution_count": 5,
   "metadata": {},
   "outputs": [
    {
     "name": "stdout",
     "output_type": "stream",
     "text": [
      "\n",
      "================================== refine后的Experience: ======================================\n",
      "{'uuid': '88615C22-FB76-3A1D-8BE1-CAA2C369B045', 'splitnum': 0, 'ordernum': None, 'person_uuid': '671430B6-8D28-3175-B87D-E81F2F5978C6', 'text': None, 'text_token': None, 'text_raw': '深圳广播电影电视集团编辑委员会委员、卫视频道总监、深圳市文广电文化传播有限公司总经理、深圳广电集团总裁助理', 'text_rawpinyin': None, 'text_rawrefine': '深圳广播电影电视集团编辑委员会委员、卫视频道总监、深圳市文广电文化传播有限公司总经理、深圳广电集团总裁助理', 'text_rawsplit': '深圳广播电影电视集团编辑委员会委员|卫视频道总监|深圳市文广电文化传播有限公司总经理|深圳广电集团总裁助理', 'text_rawtoken': None, 'adminrank': None, 'time_start': datetime.date(2012, 12, 1), 'time_end': datetime.date(2019, 3, 1)}\n",
      "\n",
      "================================== segment后的Experience: =====================================\n",
      "{'uuid': '88615C22-FB76-3A1D-8BE1-CAA2C369B045', 'splitnum': 0, 'ordernum': None, 'person_uuid': '671430B6-8D28-3175-B87D-E81F2F5978C6', 'text': None, 'text_token': None, 'text_raw': '深圳广播电影电视集团编辑委员会委员、卫视频道总监、深圳市文广电文化传播有限公司总经理、深圳广电集团总裁助理', 'text_rawpinyin': None, 'text_rawrefine': '深圳广播电影电视集团编辑委员会委员、卫视频道总监、深圳市文广电文化传播有限公司总经理、深圳广电集团总裁助理', 'text_rawsplit': '深圳广播电影电视集团编辑委员会委员|卫视频道总监|深圳市文广电文化传播有限公司总经理|深圳广电集团总裁助理', 'text_rawtoken': '深圳L 广播电影电视集团O 编辑委员会S 委员P|卫视O 频道总监P|深圳市L 文广电文化传播有限公司O 总经理P|深圳L 广电集团O 总裁助理P', 'adminrank': None, 'time_start': datetime.date(2012, 12, 1), 'time_end': datetime.date(2019, 3, 1)}\n",
      "\n",
      "============================== rebuild后得到的多个Experience: ==================================\n",
      "{'uuid': '88615C22-FB76-3A1D-8BE1-CAA2C369B045', 'splitnum': 1, 'ordernum': None, 'person_uuid': '671430B6-8D28-3175-B87D-E81F2F5978C6', 'text': '广东省深圳市广播电影电视集团编辑委员会委员', 'text_token': '广东省L 深圳市L 广播电影电视集团O 编辑委员会S 委员P', 'text_raw': '深圳广播电影电视集团编辑委员会委员、卫视频道总监、深圳市文广电文化传播有限公司总经理、深圳广电集团总裁助理', 'text_rawpinyin': None, 'text_rawrefine': '深圳广播电影电视集团编辑委员会委员、卫视频道总监、深圳市文广电文化传播有限公司总经理、深圳广电集团总裁助理', 'text_rawsplit': '深圳广播电影电视集团编辑委员会委员|卫视频道总监|深圳市文广电文化传播有限公司总经理|深圳广电集团总裁助理', 'text_rawtoken': '深圳L 广播电影电视集团O 编辑委员会S 委员P|卫视O 频道总监P|深圳市L 文广电文化传播有限公司O 总经理P|深圳L 广电集团O 总裁助理P', 'adminrank': None, 'time_start': datetime.date(2012, 12, 1), 'time_end': datetime.date(2019, 3, 1)}\n",
      "{'uuid': '88615C22-FB76-3A1D-8BE1-CAA2C369B045', 'splitnum': 2, 'ordernum': None, 'person_uuid': '671430B6-8D28-3175-B87D-E81F2F5978C6', 'text': '广东省深圳市广播电影电视集团卫视频道总监', 'text_token': '广东省L 深圳市L 广播电影电视集团O 卫视O 频道总监P', 'text_raw': '深圳广播电影电视集团编辑委员会委员、卫视频道总监、深圳市文广电文化传播有限公司总经理、深圳广电集团总裁助理', 'text_rawpinyin': None, 'text_rawrefine': '深圳广播电影电视集团编辑委员会委员、卫视频道总监、深圳市文广电文化传播有限公司总经理、深圳广电集团总裁助理', 'text_rawsplit': '深圳广播电影电视集团编辑委员会委员|卫视频道总监|深圳市文广电文化传播有限公司总经理|深圳广电集团总裁助理', 'text_rawtoken': '深圳L 广播电影电视集团O 编辑委员会S 委员P|卫视O 频道总监P|深圳市L 文广电文化传播有限公司O 总经理P|深圳L 广电集团O 总裁助理P', 'adminrank': None, 'time_start': datetime.date(2012, 12, 1), 'time_end': datetime.date(2019, 3, 1)}\n",
      "{'uuid': '88615C22-FB76-3A1D-8BE1-CAA2C369B045', 'splitnum': 3, 'ordernum': None, 'person_uuid': '671430B6-8D28-3175-B87D-E81F2F5978C6', 'text': '广东省深圳市文广电文化传播有限公司总经理', 'text_token': '广东省L 深圳市L 文广电文化传播有限公司O 总经理P', 'text_raw': '深圳广播电影电视集团编辑委员会委员、卫视频道总监、深圳市文广电文化传播有限公司总经理、深圳广电集团总裁助理', 'text_rawpinyin': None, 'text_rawrefine': '深圳广播电影电视集团编辑委员会委员、卫视频道总监、深圳市文广电文化传播有限公司总经理、深圳广电集团总裁助理', 'text_rawsplit': '深圳广播电影电视集团编辑委员会委员|卫视频道总监|深圳市文广电文化传播有限公司总经理|深圳广电集团总裁助理', 'text_rawtoken': '深圳L 广播电影电视集团O 编辑委员会S 委员P|卫视O 频道总监P|深圳市L 文广电文化传播有限公司O 总经理P|深圳L 广电集团O 总裁助理P', 'adminrank': None, 'time_start': datetime.date(2012, 12, 1), 'time_end': datetime.date(2019, 3, 1)}\n",
      "{'uuid': '88615C22-FB76-3A1D-8BE1-CAA2C369B045', 'splitnum': 4, 'ordernum': None, 'person_uuid': '671430B6-8D28-3175-B87D-E81F2F5978C6', 'text': '广东省深圳市广电集团总裁助理', 'text_token': '广东省L 深圳市L 广电集团O 总裁助理P', 'text_raw': '深圳广播电影电视集团编辑委员会委员、卫视频道总监、深圳市文广电文化传播有限公司总经理、深圳广电集团总裁助理', 'text_rawpinyin': None, 'text_rawrefine': '深圳广播电影电视集团编辑委员会委员、卫视频道总监、深圳市文广电文化传播有限公司总经理、深圳广电集团总裁助理', 'text_rawsplit': '深圳广播电影电视集团编辑委员会委员|卫视频道总监|深圳市文广电文化传播有限公司总经理|深圳广电集团总裁助理', 'text_rawtoken': '深圳L 广播电影电视集团O 编辑委员会S 委员P|卫视O 频道总监P|深圳市L 文广电文化传播有限公司O 总经理P|深圳L 广电集团O 总裁助理P', 'adminrank': None, 'time_start': datetime.date(2012, 12, 1), 'time_end': datetime.date(2019, 3, 1)}\n"
     ]
    }
   ],
   "source": [
    "# 这里只演示exp_parser中的三个函数: refine(), segment() 和 rebuild() , 他们具体的作用请看函数注释\n",
    "\n",
    "exp1 = CP.common.Experience(uuid=\"88615C22-FB76-3A1D-8BE1-CAA2C369B045\", \n",
    "                            text_raw=\"深圳广播电影电视集团编辑委员会委员、卫视频道总监、深圳市文广电文化传播有限公司总经理、深圳广电集团总裁助理\", \n",
    "                            time_start = datetime.date(2012, 12, 1), \n",
    "                            time_end=datetime.date(2019, 3, 1), \n",
    "                            person_uuid=\"671430B6-8D28-3175-B87D-E81F2F5978C6\")\n",
    "\n",
    "exp1 = CP.algorithm.exp_parser.refine([exp1, ])[0]\n",
    "print(\"\\n================================== refine后的Experience: ======================================\")\n",
    "print(exp1)\n",
    "\n",
    "exp1 = CP.algorithm.exp_parser.segment([exp1, ])[0]\n",
    "print(\"\\n================================== segment后的Experience: =====================================\")\n",
    "print(exp1)\n",
    "\n",
    "exp_list = CP.algorithm.exp_parser.rebuild([exp1, ])\n",
    "print(\"\\n============================== rebuild后得到的多个Experience: ==================================\")\n",
    "for i in exp_list:\n",
    "    print(i)"
   ]
  },
  {
   "cell_type": "markdown",
   "metadata": {
    "pycharm": {
     "name": "#%% md\n"
    }
   },
   "source": [
    "## 2. 典型数据处理流程"
   ]
  },
  {
   "cell_type": "markdown",
   "metadata": {},
   "source": [
    "### 2.1 经历数据解析流程"
   ]
  },
  {
   "cell_type": "code",
   "execution_count": 6,
   "metadata": {
    "pycharm": {
     "name": "#%%\n"
    }
   },
   "outputs": [
    {
     "name": "stderr",
     "output_type": "stream",
     "text": [
      "[exp_parser]-refine: 100%|█████████▉| 2068/2069 [00:01<00:00, 1941.81it/s]\n",
      "[exp_parser]-segment: 100%|█████████▉| 2068/2069 [00:18<00:00, 111.13it/s]\n",
      "[exp_parser]-rebuild: 100%|█████████▉| 2068/2069 [00:01<00:00, 2065.58it/s]\n"
     ]
    },
    {
     "data": {
      "text/plain": [
       "4732"
      ]
     },
     "execution_count": 6,
     "metadata": {},
     "output_type": "execute_result"
    }
   ],
   "source": [
    "# 获取经历数据存取Mapper\n",
    "jem = CP.persistent.mapper.JsonExperienceMapper()\n",
    "\n",
    "# 读取经历数据\n",
    "exp_list = jem.getAll(\"./demo/sample_data/sample_data_exp.json\")\n",
    "\n",
    "# 处理经历数据\n",
    "exp_list = CP.algorithm.exp_parser.refine(exp_list, in_position=True, callback=CP.algorithm.tqdm_callback())\n",
    "exp_list = CP.algorithm.exp_parser.segment(exp_list, in_position=True, callback=CP.algorithm.tqdm_callback())\n",
    "exp_list = CP.algorithm.exp_parser.rebuild(exp_list, callback=CP.algorithm.tqdm_callback())\n",
    "\n",
    "# 保存处理好的经历数据到数据库\n",
    "cem = CP.persistent.mapper.CareerDBExperienceMapper()\n",
    "cem.save(replace_by=\"exp_uuid\", exp_list=exp_list)"
   ]
  },
  {
   "cell_type": "markdown",
   "metadata": {},
   "source": [
    "### 2.2 经历、评价标签预测流程"
   ]
  },
  {
   "cell_type": "code",
   "execution_count": 7,
   "metadata": {},
   "outputs": [
    {
     "name": "stderr",
     "output_type": "stream",
     "text": [
      "Bert Predict:  33%|███▎      | 7/21 [00:04<00:09,  1.54it/s]"
     ]
    }
   ],
   "source": [
    "# 经历标签==================================================\n",
    "\n",
    "# 获取经历数据存取Mapper\n",
    "cem = CP.persistent.mapper.CareerDBExperienceMapper()\n",
    "\n",
    "# 读取经历数据\n",
    "exp_list = cem.getAll()\n",
    "\n",
    "# 从经历数据预测Label\n",
    "label_list = CP.algorithm.label.label_exp(exp_list)\n",
    "\n",
    "# 获取Label数据存取Mapper, 并保存预测出来的所有Label\n",
    "clm = CP.persistent.mapper.CareerDBLabelMapper()\n",
    "clm.save(replace_by=\"exp_uuid\", label_list=label_list)"
   ]
  },
  {
   "cell_type": "code",
   "execution_count": 3,
   "metadata": {},
   "outputs": [
    {
     "name": "stderr",
     "output_type": "stream",
     "text": [
      "[labe_eval]-fuzz_match:  90%|█████████ | 9/10 [00:05<00:00,  1.51it/s]\n"
     ]
    },
    {
     "data": {
      "text/plain": [
       "366"
      ]
     },
     "execution_count": 3,
     "metadata": {},
     "output_type": "execute_result"
    }
   ],
   "source": [
    "# 评价标签==================================================\n",
    "\n",
    "# 读取并保存评价\n",
    "jevalm = CP.persistent.mapper.JsonEvaluationMapper()\n",
    "eval_list = jevalm.getAll(\"./demo/sample_data/sample_data_evaluation.json\")\n",
    "cevalm = CP.persistent.mapper.CareerDBEvaluationMapper()\n",
    "cevalm.save(replace_by=\"person_uuid\", eval_list=eval_list)\n",
    "\n",
    "# 从Evaluation预测Label\n",
    "label_list = CP.algorithm.label.label_eval(eval_list=eval_list, callback=CP.algorithm.utils.tqdm_callback())\n",
    "\n",
    "# 获取Label数据存取Mapper, 并保存预测出来的所有Label\n",
    "clm = CP.persistent.mapper.CareerDBLabelMapper()\n",
    "clm.save(replace_by=\"eval_uuid\", label_list=label_list)"
   ]
  },
  {
   "cell_type": "markdown",
   "metadata": {
    "pycharm": {
     "name": "#%% md\n"
    }
   },
   "source": [
    "### 2.3 人员数据处理流程"
   ]
  },
  {
   "cell_type": "code",
   "execution_count": 8,
   "metadata": {
    "pycharm": {
     "name": "#%%\n"
    }
   },
   "outputs": [
    {
     "data": {
      "text/plain": [
       "180"
      ]
     },
     "execution_count": 8,
     "metadata": {},
     "output_type": "execute_result"
    }
   ],
   "source": [
    "# 获取人员数据存取Mapper\n",
    "jpm = CP.persistent.mapper.JsonPersonMapper()\n",
    "\n",
    "# 读取人员数据\n",
    "person_list_all = jpm.getAll(\"./demo/sample_data/sample_data_person.json\")\n",
    "\n",
    "# 处理人员数据\n",
    "pass\n",
    "\n",
    "# 保存人员数据\n",
    "cpm = CP.persistent.mapper.CareerDBPersonMapper()\n",
    "cpm.save(person_list_all)"
   ]
  },
  {
   "cell_type": "markdown",
   "metadata": {},
   "source": [
    "### 2.4 组织机构树、关系网络生成流程"
   ]
  },
  {
   "cell_type": "code",
   "execution_count": 9,
   "metadata": {},
   "outputs": [
    {
     "name": "stdout",
     "output_type": "stream",
     "text": [
      "******** Building OCTree ****************************\n",
      "******** Updating node interval *********************\n",
      "******** Dumping nid2resumes dict *******************\n",
      "******** Inserting 2654 YearUser Nodes **************\n",
      "******** Inserting 2474 Trajectory Rels *************\n",
      "******** Storing social net(col:114 sup_s:19 sup_c:8) \n"
     ]
    },
    {
     "name": "stderr",
     "output_type": "stream",
     "text": [
      "[export Rels]-neo4j:  99%|█████████▉| 140/141 [00:01<00:00, 137.82it/s]\n",
      "[export Rels]-nid2resumes:  95%|█████████▍| 4783/5053 [00:00<00:00, 68823.24it/s]\n"
     ]
    },
    {
     "data": {
      "text/plain": [
       "636"
      ]
     },
     "execution_count": 9,
     "metadata": {},
     "output_type": "execute_result"
    }
   ],
   "source": [
    "# 获取经历数据存取Mapper、读取经历数据\n",
    "cem = CP.persistent.mapper.CareerDBExperienceMapper()\n",
    "exp_list = cem.getAll()\n",
    "# 获取人员数据存取Mapper、读取人员数据\n",
    "cpm = CP.persistent.mapper.CareerDBPersonMapper()\n",
    "person_list = cpm.getAll()\n",
    "\n",
    "# 用经历和人员数据生成组织机构树、在neo4j中计算出关系网络等\n",
    "octree = CP.algorithm.network.octree(exp_list=exp_list, person_list=person_list)\n",
    "\n",
    "# 把neo4j和nid2resumes.json里的Relationship都导出\n",
    "rel_list_neo4j = CP.algorithm.network.export_neo4j_relationship(callback=CP.algorithm.utils.tqdm_callback())\n",
    "rel_list_nid2r = CP.algorithm.network.export_nid2resumes_relationship(callback=CP.algorithm.utils.tqdm_callback())\n",
    "\n",
    "# 把导出的Relationship存进CAREER数据库\n",
    "crm = CP.persistent.mapper.CareerDBRelationshipMapper()\n",
    "crm.save(replace_by=\"person_uuid\", relationship_list=rel_list_neo4j+rel_list_nid2r)"
   ]
  },
  {
   "cell_type": "code",
   "execution_count": 10,
   "metadata": {},
   "outputs": [
    {
     "name": "stderr",
     "output_type": "stream",
     "text": [
      "[person_parser]-export_alumni_relshp:   3%|▎         | 6/180 [00:00<00:00, 462.73it/s]\n",
      "[person_parser]-export_tx_relshp:  18%|█▊        | 33/180 [00:00<00:00, 3004.12it/s]\n"
     ]
    },
    {
     "data": {
      "text/plain": [
       "22"
      ]
     },
     "execution_count": 10,
     "metadata": {},
     "output_type": "execute_result"
    }
   ],
   "source": [
    "# 读取人员数据\n",
    "cpm = CP.persistent.mapper.CareerDBPersonMapper()\n",
    "person_list_all = cpm.getAll()\n",
    "\n",
    "# 匹配得到Relationship\n",
    "rel_relshp_list = CP.algorithm.person_parser.export_rel_relationship()\n",
    "alum_relshp_list = CP.algorithm.person_parser.export_alumni_relationship(person_list_all, callback=CP.algorithm.utils.tqdm_callback())\n",
    "tx_relshp_list = CP.algorithm.person_parser.export_tx_relationship(person_list_all, callback=CP.algorithm.utils.tqdm_callback())\n",
    "\n",
    "# 把匹配的Relationship存进CAREER数据库\n",
    "crm = CP.persistent.mapper.CareerDBRelationshipMapper()\n",
    "crm.save(replace_by=\"id\", relationship_list=alum_relshp_list)\n",
    "crm.save(replace_by=\"id\", relationship_list=tx_relshp_list)"
   ]
  }
 ],
 "metadata": {
  "kernelspec": {
   "display_name": "career",
   "language": "python",
   "name": "python3"
  },
  "language_info": {
   "codemirror_mode": {
    "name": "ipython",
    "version": 3
   },
   "file_extension": ".py",
   "mimetype": "text/x-python",
   "name": "python",
   "nbconvert_exporter": "python",
   "pygments_lexer": "ipython3",
   "version": "3.8.13"
  },
  "orig_nbformat": 4,
  "vscode": {
   "interpreter": {
    "hash": "c85efb589253dfcd23f6e5d911e4e9e501dabb68de753d38f60b951583114026"
   }
  }
 },
 "nbformat": 4,
 "nbformat_minor": 2
}
